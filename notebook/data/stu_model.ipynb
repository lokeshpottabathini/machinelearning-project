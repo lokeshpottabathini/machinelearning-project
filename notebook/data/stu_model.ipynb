{
 "cells": [
  {
   "cell_type": "code",
   "execution_count": 1,
   "metadata": {},
   "outputs": [],
   "source": [
    "import numpy as np\n",
    "import pandas as pd\n",
    "import matplotlib.pyplot as plt\n",
    "import seaborn as sns\n",
    "import warnings\n",
    "warnings.filterwarnings(\"ignore\")"
   ]
  },
  {
   "cell_type": "code",
   "execution_count": 2,
   "metadata": {},
   "outputs": [
    {
     "name": "stdout",
     "output_type": "stream",
     "text": [
      "Requirement already satisfied: catboost in e:\\machinelearning-project\\.venv\\lib\\site-packages (1.2.7)\n",
      "Requirement already satisfied: graphviz in e:\\machinelearning-project\\.venv\\lib\\site-packages (from catboost) (0.20.3)\n",
      "Requirement already satisfied: matplotlib in e:\\machinelearning-project\\.venv\\lib\\site-packages (from catboost) (3.10.1)\n",
      "Requirement already satisfied: numpy<2.0,>=1.16.0 in e:\\machinelearning-project\\.venv\\lib\\site-packages (from catboost) (1.26.4)\n",
      "Requirement already satisfied: pandas>=0.24 in e:\\machinelearning-project\\.venv\\lib\\site-packages (from catboost) (2.2.3)\n",
      "Requirement already satisfied: scipy in e:\\machinelearning-project\\.venv\\lib\\site-packages (from catboost) (1.15.2)\n",
      "Requirement already satisfied: plotly in e:\\machinelearning-project\\.venv\\lib\\site-packages (from catboost) (6.0.0)\n",
      "Requirement already satisfied: six in e:\\machinelearning-project\\.venv\\lib\\site-packages (from catboost) (1.17.0)\n",
      "Requirement already satisfied: python-dateutil>=2.8.2 in e:\\machinelearning-project\\.venv\\lib\\site-packages (from pandas>=0.24->catboost) (2.9.0.post0)\n",
      "Requirement already satisfied: pytz>=2020.1 in e:\\machinelearning-project\\.venv\\lib\\site-packages (from pandas>=0.24->catboost) (2025.1)\n",
      "Requirement already satisfied: tzdata>=2022.7 in e:\\machinelearning-project\\.venv\\lib\\site-packages (from pandas>=0.24->catboost) (2025.1)\n",
      "Requirement already satisfied: contourpy>=1.0.1 in e:\\machinelearning-project\\.venv\\lib\\site-packages (from matplotlib->catboost) (1.3.1)\n",
      "Requirement already satisfied: cycler>=0.10 in e:\\machinelearning-project\\.venv\\lib\\site-packages (from matplotlib->catboost) (0.12.1)\n",
      "Requirement already satisfied: fonttools>=4.22.0 in e:\\machinelearning-project\\.venv\\lib\\site-packages (from matplotlib->catboost) (4.56.0)\n",
      "Requirement already satisfied: kiwisolver>=1.3.1 in e:\\machinelearning-project\\.venv\\lib\\site-packages (from matplotlib->catboost) (1.4.8)\n",
      "Requirement already satisfied: packaging>=20.0 in e:\\machinelearning-project\\.venv\\lib\\site-packages (from matplotlib->catboost) (24.2)\n",
      "Requirement already satisfied: pillow>=8 in e:\\machinelearning-project\\.venv\\lib\\site-packages (from matplotlib->catboost) (11.1.0)\n",
      "Requirement already satisfied: pyparsing>=2.3.1 in e:\\machinelearning-project\\.venv\\lib\\site-packages (from matplotlib->catboost) (3.2.1)\n",
      "Requirement already satisfied: narwhals>=1.15.1 in e:\\machinelearning-project\\.venv\\lib\\site-packages (from plotly->catboost) (1.30.0)\n"
     ]
    }
   ],
   "source": [
    "!pip install catboost"
   ]
  },
  {
   "cell_type": "code",
   "execution_count": 3,
   "metadata": {},
   "outputs": [],
   "source": [
    "from sklearn.model_selection import train_test_split, RandomizedSearchCV\n",
    "from sklearn.preprocessing import StandardScaler\n",
    "from sklearn.metrics import mean_squared_error, r2_score,mean_absolute_error\n",
    "from sklearn.neighbors import KNeighborsRegressor\n",
    "from sklearn.tree import DecisionTreeRegressor\n",
    "from sklearn.ensemble import RandomForestRegressor, AdaBoostRegressor\n",
    "from sklearn.svm import SVR\n",
    "from sklearn.linear_model import LinearRegression, Ridge, Lasso\n",
    "from catboost import CatBoostRegressor\n",
    "from xgboost import XGBRegressor"
   ]
  },
  {
   "cell_type": "code",
   "execution_count": 4,
   "metadata": {},
   "outputs": [
    {
     "data": {
      "text/html": [
       "<div>\n",
       "<style scoped>\n",
       "    .dataframe tbody tr th:only-of-type {\n",
       "        vertical-align: middle;\n",
       "    }\n",
       "\n",
       "    .dataframe tbody tr th {\n",
       "        vertical-align: top;\n",
       "    }\n",
       "\n",
       "    .dataframe thead th {\n",
       "        text-align: right;\n",
       "    }\n",
       "</style>\n",
       "<table border=\"1\" class=\"dataframe\">\n",
       "  <thead>\n",
       "    <tr style=\"text-align: right;\">\n",
       "      <th></th>\n",
       "      <th>gender</th>\n",
       "      <th>race/ethnicity</th>\n",
       "      <th>parental level of education</th>\n",
       "      <th>lunch</th>\n",
       "      <th>test preparation course</th>\n",
       "      <th>math score</th>\n",
       "      <th>reading score</th>\n",
       "      <th>writing score</th>\n",
       "      <th>total</th>\n",
       "      <th>average</th>\n",
       "    </tr>\n",
       "  </thead>\n",
       "  <tbody>\n",
       "    <tr>\n",
       "      <th>0</th>\n",
       "      <td>female</td>\n",
       "      <td>group B</td>\n",
       "      <td>bachelor's degree</td>\n",
       "      <td>standard</td>\n",
       "      <td>none</td>\n",
       "      <td>72</td>\n",
       "      <td>72</td>\n",
       "      <td>74</td>\n",
       "      <td>218</td>\n",
       "      <td>72.666667</td>\n",
       "    </tr>\n",
       "    <tr>\n",
       "      <th>1</th>\n",
       "      <td>female</td>\n",
       "      <td>group C</td>\n",
       "      <td>some college</td>\n",
       "      <td>standard</td>\n",
       "      <td>completed</td>\n",
       "      <td>69</td>\n",
       "      <td>90</td>\n",
       "      <td>88</td>\n",
       "      <td>247</td>\n",
       "      <td>82.333333</td>\n",
       "    </tr>\n",
       "  </tbody>\n",
       "</table>\n",
       "</div>"
      ],
      "text/plain": [
       "   gender race/ethnicity parental level of education     lunch  \\\n",
       "0  female        group B           bachelor's degree  standard   \n",
       "1  female        group C                some college  standard   \n",
       "\n",
       "  test preparation course  math score  reading score  writing score  total  \\\n",
       "0                    none          72             72             74    218   \n",
       "1               completed          69             90             88    247   \n",
       "\n",
       "     average  \n",
       "0  72.666667  \n",
       "1  82.333333  "
      ]
     },
     "execution_count": 4,
     "metadata": {},
     "output_type": "execute_result"
    }
   ],
   "source": [
    "df=pd.read_csv(\"cleaned_stu_data.csv\")\n",
    "df.head(2)"
   ]
  },
  {
   "cell_type": "markdown",
   "metadata": {},
   "source": [
    "preparing x and y variables"
   ]
  },
  {
   "cell_type": "code",
   "execution_count": 5,
   "metadata": {},
   "outputs": [],
   "source": [
    "x=df.drop(columns=[\"math score\"],axis=1)\n",
    "y=df[\"math score\"]"
   ]
  },
  {
   "cell_type": "markdown",
   "metadata": {},
   "source": [
    "Performing Encoding and standardization"
   ]
  },
  {
   "cell_type": "code",
   "execution_count": 6,
   "metadata": {},
   "outputs": [],
   "source": [
    "num_features=x.select_dtypes(exclude=\"object\").columns\n",
    "cat_features=x.select_dtypes(include=\"object\").columns\n",
    "from sklearn.preprocessing import OneHotEncoder\n",
    "from sklearn.compose import ColumnTransformer\n",
    "\n",
    "numeric_transformer=StandardScaler()\n",
    "one_transformer=OneHotEncoder()\n",
    "preprocessor=ColumnTransformer(\n",
    "    [\n",
    "        (\"OneHotEncoder\",one_transformer,cat_features),\n",
    "        (\"StandardScaler\",numeric_transformer,num_features),\n",
    "    ]\n",
    ")"
   ]
  },
  {
   "cell_type": "code",
   "execution_count": 7,
   "metadata": {},
   "outputs": [],
   "source": [
    "x=preprocessor.fit_transform(x)"
   ]
  },
  {
   "cell_type": "code",
   "execution_count": 8,
   "metadata": {},
   "outputs": [
    {
     "data": {
      "text/plain": [
       "(993, 21)"
      ]
     },
     "execution_count": 8,
     "metadata": {},
     "output_type": "execute_result"
    }
   ],
   "source": [
    "x.shape"
   ]
  },
  {
   "cell_type": "code",
   "execution_count": 9,
   "metadata": {},
   "outputs": [],
   "source": [
    "x_train,x_test,y_train,y_test=train_test_split(x,y,test_size=0.25,random_state=42)"
   ]
  },
  {
   "cell_type": "code",
   "execution_count": 10,
   "metadata": {},
   "outputs": [
    {
     "name": "stdout",
     "output_type": "stream",
     "text": [
      "(744, 21) (249, 21) (744,) (249,)\n"
     ]
    }
   ],
   "source": [
    "print(x_train.shape,x_test.shape,y_train.shape,y_test.shape)"
   ]
  },
  {
   "cell_type": "markdown",
   "metadata": {},
   "source": [
    "Create an evaluate function to give all metrics after model training"
   ]
  },
  {
   "cell_type": "code",
   "execution_count": 11,
   "metadata": {},
   "outputs": [],
   "source": [
    "def evaluate_model(true,predicted):\n",
    "  mae=mean_absolute_error(true,predicted)\n",
    "  mse=mean_squared_error(true,predicted)\n",
    "  rmse=np.sqrt(mean_squared_error(true,predicted))\n",
    "  r2_square=r2_score(true,predicted)\n",
    "  return mae,rmse,r2_square"
   ]
  },
  {
   "cell_type": "code",
   "execution_count": 12,
   "metadata": {},
   "outputs": [
    {
     "name": "stdout",
     "output_type": "stream",
     "text": [
      "Linear Regression\n",
      "model performance for training set\n",
      "root mean squared error:0.0000\n",
      "root mean absolute error:0.0000\n",
      "r2 score:1.0000\n",
      "============================================================\n",
      "model performance for test set\n",
      "root mean squared error:0.0000\n",
      "root mean absolute error:0.0000\n",
      "r2 score:1.0000\n",
      "=================================================================\n",
      "\n",
      "\n",
      "Lasso\n",
      "model performance for training set\n",
      "root mean squared error:4.7725\n",
      "root mean absolute error:3.7590\n",
      "r2 score:0.8928\n",
      "============================================================\n",
      "model performance for test set\n",
      "root mean squared error:4.6343\n",
      "root mean absolute error:3.7390\n",
      "r2 score:0.8928\n",
      "=================================================================\n",
      "\n",
      "\n",
      "Ridge\n",
      "model performance for training set\n",
      "root mean squared error:0.3435\n",
      "root mean absolute error:0.2728\n",
      "r2 score:0.9994\n",
      "============================================================\n",
      "model performance for test set\n",
      "root mean squared error:0.3549\n",
      "root mean absolute error:0.2852\n",
      "r2 score:0.9994\n",
      "=================================================================\n",
      "\n",
      "\n",
      "K-Neighbors Regressor\n",
      "model performance for training set\n",
      "root mean squared error:4.2866\n",
      "root mean absolute error:3.4231\n",
      "r2 score:0.9135\n",
      "============================================================\n",
      "model performance for test set\n",
      "root mean squared error:4.9815\n",
      "root mean absolute error:4.0418\n",
      "r2 score:0.9135\n",
      "=================================================================\n",
      "\n",
      "\n",
      "Decision Tree\n",
      "model performance for training set\n",
      "root mean squared error:0.0000\n",
      "root mean absolute error:0.0000\n",
      "r2 score:1.0000\n",
      "============================================================\n",
      "model performance for test set\n",
      "root mean squared error:4.1445\n",
      "root mean absolute error:3.1526\n",
      "r2 score:1.0000\n",
      "=================================================================\n",
      "\n",
      "\n",
      "RandomForestRegressor\n",
      "model performance for training set\n",
      "root mean squared error:1.0827\n",
      "root mean absolute error:0.8375\n",
      "r2 score:0.9945\n",
      "============================================================\n",
      "model performance for test set\n",
      "root mean squared error:2.7978\n",
      "root mean absolute error:2.1061\n",
      "r2 score:0.9945\n",
      "=================================================================\n",
      "\n",
      "\n",
      "XGB regressor\n",
      "model performance for training set\n",
      "root mean squared error:0.0805\n",
      "root mean absolute error:0.0580\n",
      "r2 score:1.0000\n",
      "============================================================\n",
      "model performance for test set\n",
      "root mean squared error:2.2063\n",
      "root mean absolute error:1.7267\n",
      "r2 score:1.0000\n",
      "=================================================================\n",
      "\n",
      "\n",
      "CatBoosting Regressor\n",
      "model performance for training set\n",
      "root mean squared error:0.8457\n",
      "root mean absolute error:0.6932\n",
      "r2 score:0.9966\n",
      "============================================================\n",
      "model performance for test set\n",
      "root mean squared error:2.3780\n",
      "root mean absolute error:1.7821\n",
      "r2 score:0.9966\n",
      "=================================================================\n",
      "\n",
      "\n",
      "AdaBoost Regressor\n",
      "model performance for training set\n",
      "root mean squared error:3.9310\n",
      "root mean absolute error:3.1935\n",
      "r2 score:0.9272\n",
      "============================================================\n",
      "model performance for test set\n",
      "root mean squared error:4.1334\n",
      "root mean absolute error:3.2883\n",
      "r2 score:0.9272\n",
      "=================================================================\n",
      "\n",
      "\n"
     ]
    }
   ],
   "source": [
    "models={\n",
    "    \"Linear Regression\":LinearRegression(),\n",
    "    \"Lasso\":Lasso(),\n",
    "    \"Ridge\":Ridge(),\n",
    "    \"K-Neighbors Regressor\":KNeighborsRegressor(),\n",
    "    \"Decision Tree\":DecisionTreeRegressor(),\n",
    "    \"RandomForestRegressor\":RandomForestRegressor(),\n",
    "    \"XGB regressor\":XGBRegressor(),\n",
    "    \"CatBoosting Regressor\":CatBoostRegressor(verbose=False),\n",
    "    \"AdaBoost Regressor\":AdaBoostRegressor()\n",
    "}\n",
    "model_list=[]\n",
    "r2_list=[]\n",
    "for i in range(len(list(models))):\n",
    "  model=list(models.values())[i]\n",
    "  model.fit(x_train,y_train)\n",
    "\n",
    "  y_train_pred=model.predict(x_train)\n",
    "  y_test_pred=model.predict(x_test)\n",
    "\n",
    "  model_train_mae,model_train_rmse,model_train_r2=evaluate_model(y_train,y_train_pred)\n",
    "  model_test_mae,model_test_rmse,model_test_r2=evaluate_model(y_test,y_test_pred)\n",
    "\n",
    "  print(list(models.keys())[i])\n",
    "  model_list.append(list(models.keys())[i])\n",
    "\n",
    "  print(\"model performance for training set\")\n",
    "  print(\"root mean squared error:{:.4f}\".format(model_train_rmse))\n",
    "  print(\"root mean absolute error:{:.4f}\".format(model_train_mae))\n",
    "  print(\"r2 score:{:.4f}\".format(model_train_r2))\n",
    "\n",
    "  print(\"============================================================\")\n",
    "\n",
    "  print(\"model performance for test set\")\n",
    "  print(\"root mean squared error:{:.4f}\".format(model_test_rmse))\n",
    "  print(\"root mean absolute error:{:.4f}\".format(model_test_mae))\n",
    "  print(\"r2 score:{:.4f}\".format(model_train_r2))\n",
    "  r2_list.append(model_test_r2)\n",
    "\n",
    "  print(\"=================================================================\")\n",
    "  print(\"\\n\")"
   ]
  },
  {
   "cell_type": "markdown",
   "metadata": {},
   "source": [
    "Results"
   ]
  },
  {
   "cell_type": "code",
   "execution_count": 13,
   "metadata": {},
   "outputs": [
    {
     "data": {
      "text/html": [
       "<div>\n",
       "<style scoped>\n",
       "    .dataframe tbody tr th:only-of-type {\n",
       "        vertical-align: middle;\n",
       "    }\n",
       "\n",
       "    .dataframe tbody tr th {\n",
       "        vertical-align: top;\n",
       "    }\n",
       "\n",
       "    .dataframe thead th {\n",
       "        text-align: right;\n",
       "    }\n",
       "</style>\n",
       "<table border=\"1\" class=\"dataframe\">\n",
       "  <thead>\n",
       "    <tr style=\"text-align: right;\">\n",
       "      <th></th>\n",
       "      <th>model_name</th>\n",
       "      <th>r2_score</th>\n",
       "    </tr>\n",
       "  </thead>\n",
       "  <tbody>\n",
       "    <tr>\n",
       "      <th>0</th>\n",
       "      <td>Linear Regression</td>\n",
       "      <td>1.000000</td>\n",
       "    </tr>\n",
       "    <tr>\n",
       "      <th>2</th>\n",
       "      <td>Ridge</td>\n",
       "      <td>0.999423</td>\n",
       "    </tr>\n",
       "    <tr>\n",
       "      <th>6</th>\n",
       "      <td>XGB regressor</td>\n",
       "      <td>0.977721</td>\n",
       "    </tr>\n",
       "    <tr>\n",
       "      <th>7</th>\n",
       "      <td>CatBoosting Regressor</td>\n",
       "      <td>0.974120</td>\n",
       "    </tr>\n",
       "    <tr>\n",
       "      <th>5</th>\n",
       "      <td>RandomForestRegressor</td>\n",
       "      <td>0.964175</td>\n",
       "    </tr>\n",
       "    <tr>\n",
       "      <th>8</th>\n",
       "      <td>AdaBoost Regressor</td>\n",
       "      <td>0.921806</td>\n",
       "    </tr>\n",
       "    <tr>\n",
       "      <th>4</th>\n",
       "      <td>Decision Tree</td>\n",
       "      <td>0.921387</td>\n",
       "    </tr>\n",
       "    <tr>\n",
       "      <th>1</th>\n",
       "      <td>Lasso</td>\n",
       "      <td>0.901706</td>\n",
       "    </tr>\n",
       "    <tr>\n",
       "      <th>3</th>\n",
       "      <td>K-Neighbors Regressor</td>\n",
       "      <td>0.886428</td>\n",
       "    </tr>\n",
       "  </tbody>\n",
       "</table>\n",
       "</div>"
      ],
      "text/plain": [
       "              model_name  r2_score\n",
       "0      Linear Regression  1.000000\n",
       "2                  Ridge  0.999423\n",
       "6          XGB regressor  0.977721\n",
       "7  CatBoosting Regressor  0.974120\n",
       "5  RandomForestRegressor  0.964175\n",
       "8     AdaBoost Regressor  0.921806\n",
       "4          Decision Tree  0.921387\n",
       "1                  Lasso  0.901706\n",
       "3  K-Neighbors Regressor  0.886428"
      ]
     },
     "execution_count": 13,
     "metadata": {},
     "output_type": "execute_result"
    }
   ],
   "source": [
    "pd.DataFrame(list(zip(model_list,r2_list)),columns=[\"model_name\",\"r2_score\"]).sort_values(by=[\"r2_score\"],ascending=False)"
   ]
  },
  {
   "cell_type": "markdown",
   "metadata": {},
   "source": [
    "Linear Regression"
   ]
  },
  {
   "cell_type": "code",
   "execution_count": 14,
   "metadata": {},
   "outputs": [
    {
     "name": "stdout",
     "output_type": "stream",
     "text": [
      "accuracy of the model is 100.00\n"
     ]
    }
   ],
   "source": [
    "lin_model=LinearRegression()\n",
    "lin_model=lin_model.fit(x_train,y_train)\n",
    "y_pred=lin_model.predict(x_test)\n",
    "score=r2_score(y_test,y_pred)*100\n",
    "print(\"accuracy of the model is %.2f\"%score)"
   ]
  },
  {
   "cell_type": "markdown",
   "metadata": {},
   "source": [
    "plotting y_pred and y_test"
   ]
  },
  {
   "cell_type": "code",
   "execution_count": 15,
   "metadata": {},
   "outputs": [
    {
     "data": {
      "text/plain": [
       "Text(0, 0.5, 'Predicted')"
      ]
     },
     "execution_count": 15,
     "metadata": {},
     "output_type": "execute_result"
    },
    {
     "data": {
      "image/png": "[encoded data removed]",
      "text/plain": [
       "<Figure size 640x480 with 1 Axes>"
      ]
     },
     "metadata": {},
     "output_type": "display_data"
    }
   ],
   "source": [
    "plt.scatter(y_test,y_pred)\n",
    "plt.xlabel(\"Actual\")\n",
    "plt.ylabel(\"Predicted\")"
   ]
  },
  {
   "cell_type": "markdown",
   "metadata": {},
   "source": [
    "sns.regplot(x=y_test,y=y_pred,ci=None,color=\"red\")"
   ]
  },
  {
   "cell_type": "markdown",
   "metadata": {},
   "source": [
    "Difference between Actual and Predicted values"
   ]
  },
  {
   "cell_type": "code",
   "execution_count": 16,
   "metadata": {},
   "outputs": [
    {
     "data": {
      "text/html": [
       "<div>\n",
       "<style scoped>\n",
       "    .dataframe tbody tr th:only-of-type {\n",
       "        vertical-align: middle;\n",
       "    }\n",
       "\n",
       "    .dataframe tbody tr th {\n",
       "        vertical-align: top;\n",
       "    }\n",
       "\n",
       "    .dataframe thead th {\n",
       "        text-align: right;\n",
       "    }\n",
       "</style>\n",
       "<table border=\"1\" class=\"dataframe\">\n",
       "  <thead>\n",
       "    <tr style=\"text-align: right;\">\n",
       "      <th></th>\n",
       "      <th>Actual value</th>\n",
       "      <th>Predicted value</th>\n",
       "      <th>Diffrence</th>\n",
       "    </tr>\n",
       "  </thead>\n",
       "  <tbody>\n",
       "    <tr>\n",
       "      <th>918</th>\n",
       "      <td>74</td>\n",
       "      <td>74.0</td>\n",
       "      <td>0.000000e+00</td>\n",
       "    </tr>\n",
       "    <tr>\n",
       "      <th>525</th>\n",
       "      <td>62</td>\n",
       "      <td>62.0</td>\n",
       "      <td>-1.421085e-14</td>\n",
       "    </tr>\n",
       "    <tr>\n",
       "      <th>567</th>\n",
       "      <td>91</td>\n",
       "      <td>91.0</td>\n",
       "      <td>-1.989520e-13</td>\n",
       "    </tr>\n",
       "    <tr>\n",
       "      <th>656</th>\n",
       "      <td>73</td>\n",
       "      <td>73.0</td>\n",
       "      <td>4.263256e-14</td>\n",
       "    </tr>\n",
       "    <tr>\n",
       "      <th>915</th>\n",
       "      <td>35</td>\n",
       "      <td>35.0</td>\n",
       "      <td>1.847411e-13</td>\n",
       "    </tr>\n",
       "    <tr>\n",
       "      <th>...</th>\n",
       "      <td>...</td>\n",
       "      <td>...</td>\n",
       "      <td>...</td>\n",
       "    </tr>\n",
       "    <tr>\n",
       "      <th>490</th>\n",
       "      <td>54</td>\n",
       "      <td>54.0</td>\n",
       "      <td>4.973799e-14</td>\n",
       "    </tr>\n",
       "    <tr>\n",
       "      <th>675</th>\n",
       "      <td>67</td>\n",
       "      <td>67.0</td>\n",
       "      <td>-1.421085e-14</td>\n",
       "    </tr>\n",
       "    <tr>\n",
       "      <th>892</th>\n",
       "      <td>67</td>\n",
       "      <td>67.0</td>\n",
       "      <td>1.136868e-13</td>\n",
       "    </tr>\n",
       "    <tr>\n",
       "      <th>208</th>\n",
       "      <td>35</td>\n",
       "      <td>35.0</td>\n",
       "      <td>3.481659e-13</td>\n",
       "    </tr>\n",
       "    <tr>\n",
       "      <th>277</th>\n",
       "      <td>53</td>\n",
       "      <td>53.0</td>\n",
       "      <td>1.705303e-13</td>\n",
       "    </tr>\n",
       "  </tbody>\n",
       "</table>\n",
       "<p>249 rows × 3 columns</p>\n",
       "</div>"
      ],
      "text/plain": [
       "     Actual value  Predicted value     Diffrence\n",
       "918            74             74.0  0.000000e+00\n",
       "525            62             62.0 -1.421085e-14\n",
       "567            91             91.0 -1.989520e-13\n",
       "656            73             73.0  4.263256e-14\n",
       "915            35             35.0  1.847411e-13\n",
       "..            ...              ...           ...\n",
       "490            54             54.0  4.973799e-14\n",
       "675            67             67.0 -1.421085e-14\n",
       "892            67             67.0  1.136868e-13\n",
       "208            35             35.0  3.481659e-13\n",
       "277            53             53.0  1.705303e-13\n",
       "\n",
       "[249 rows x 3 columns]"
      ]
     },
     "execution_count": 16,
     "metadata": {},
     "output_type": "execute_result"
    }
   ],
   "source": [
    "pred_df=pd.DataFrame({\"Actual value\":y_test,\"Predicted value\":y_pred,\"Diffrence\":y_test-y_pred})\n",
    "pred_df"
   ]
  },
  {
   "cell_type": "code",
   "execution_count": null,
   "metadata": {},
   "outputs": [],
   "source": []
  },
  {
   "cell_type": "code",
   "execution_count": null,
   "metadata": {},
   "outputs": [],
   "source": []
  },
  {
   "cell_type": "code",
   "execution_count": null,
   "metadata": {},
   "outputs": [],
   "source": []
  },
  {
   "cell_type": "code",
   "execution_count": null,
   "metadata": {},
   "outputs": [],
   "source": []
  },
  {
   "cell_type": "code",
   "execution_count": null,
   "metadata": {},
   "outputs": [],
   "source": []
  },
  {
   "cell_type": "code",
   "execution_count": null,
   "metadata": {},
   "outputs": [],
   "source": []
  },
  {
   "cell_type": "code",
   "execution_count": null,
   "metadata": {},
   "outputs": [],
   "source": []
  },
  {
   "cell_type": "code",
   "execution_count": null,
   "metadata": {},
   "outputs": [],
   "source": []
  }
 ],
 "metadata": {
  "kernelspec": {
   "display_name": ".venv",
   "language": "python",
   "name": "python3"
  },
  "language_info": {
   "codemirror_mode": {
    "name": "ipython",
    "version": 3
   },
   "file_extension": ".py",
   "mimetype": "text/x-python",
   "name": "python",
   "nbconvert_exporter": "python",
   "pygments_lexer": "ipython3",
   "version": "3.12.5"
  }
 },
 "nbformat": 4,
 "nbformat_minor": 2
}
